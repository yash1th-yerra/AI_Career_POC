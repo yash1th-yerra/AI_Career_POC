{
 "cells": [
  {
   "cell_type": "markdown",
   "id": "cc19aec9",
   "metadata": {},
   "source": [
    "### Extraction of Resume"
   ]
  },
  {
   "cell_type": "code",
   "execution_count": 12,
   "id": "2dc857f9",
   "metadata": {},
   "outputs": [],
   "source": [
    "import pdfplumber \n",
    "import docx2txt"
   ]
  },
  {
   "cell_type": "code",
   "execution_count": 13,
   "id": "a5bddbb6",
   "metadata": {},
   "outputs": [],
   "source": [
    "def extract_text(self, file_path: str, file_type: str) -> str:\n",
    "    \"\"\"Extract text from a given file based on file type.\n",
    "\n",
    "    Supported types: \"pdf\", \"docx\".\n",
    "    \"\"\"\n",
    "    if file_type.lower() == \"pdf\":\n",
    "        text_parts = []\n",
    "        with pdfplumber.open(file_path) as pdf:\n",
    "            for page in pdf.pages:\n",
    "                text_parts.append(page.extract_text())\n",
    "        return \"\\n\".join(text_parts)\n",
    "\n",
    "    if file_type.lower() == \"docx\":\n",
    "        return docx2txt.process(file_path)\n",
    "\n",
    "    raise ValueError(\"Unsupported file type\")\n"
   ]
  },
  {
   "cell_type": "code",
   "execution_count": 22,
   "id": "5e0a309c",
   "metadata": {},
   "outputs": [
    {
     "name": "stderr",
     "output_type": "stream",
     "text": [
      "Cannot set gray non-stroke color because /'P7' is an invalid float value\n"
     ]
    },
    {
     "name": "stdout",
     "output_type": "stream",
     "text": [
      " Extracted text from: app/resumes/SaidivyaResume.pdf\n",
      "Total characters: 3235\n",
      "\n",
      "=== Preview (first 1000 chars) ===\n",
      "\n",
      "KODIPAKA SAIDIVYA\n",
      "+91 7989600856\n",
      "Saidivyakodipaka856@gmail.com\n",
      "Linkedin\n",
      "Summary\n",
      "I am a dedicated student and avid continuous learner with a strong proficiency in electrical and electronics engineering. I\n",
      "have gained valuable hands-on experience during a 6-month internship at a TS Transco substation. Currently, I am\n",
      "expanding my expertise in data science, SQL, and Python to keep pace with emerging technological advancements.\n",
      "EDUCATION INTERNSHIP & WORK EXPERIENCE\n",
      "Sreenidhi Institute of Science and Technology,  Python | CodeAlpha\n",
      "India 01/06/24 – 30 /06/24\n",
      " Developed a Hangman game to enhance programming\n",
      "B.TECH in Electrical and Electronics Engineering,\n",
      "skills and problem-solving abilities.\n",
      "CGPA : 8.5, 2022-present\n",
      " Created a small chatbot to improve user interaction and\n",
      "SRRS Government Polytechnic, India automation.\n",
      "DIPLOMA in Electrical and Electronics Engineering,\n",
      " Modern Power systems | Zafnish Power\n",
      "CGPA : 9.5, 2019-2022 05/05/24 – 04 /06/24\n",
      " Gained practical experience with ad\n"
     ]
    }
   ],
   "source": [
    "import os\n",
    "\n",
    "# Path to the sample resume PDF inside the repo\n",
    "pdf_path = \"app/resumes/SaidivyaResume.pdf\"\n",
    "\n",
    "if not os.path.exists(pdf_path):\n",
    "    print(f\" File not found: {pdf_path}\")\n",
    "else:\n",
    "    try:\n",
    "        text = extract_text(None, pdf_path, \"pdf\")\n",
    "        print(f\" Extracted text from: {pdf_path}\")\n",
    "        print(f\"Total characters: {len(text)}\")\n",
    "        print(\"\\n=== Preview (first 1000 chars) ===\\n\")\n",
    "        print(text[:1000])\n",
    "    except Exception as e:\n",
    "        print(f\" Failed to extract text: {e}\")\n"
   ]
  },
  {
   "cell_type": "markdown",
   "id": "77c49a2e",
   "metadata": {},
   "source": [
    "### Parsing Of Resume"
   ]
  },
  {
   "cell_type": "code",
   "execution_count": null,
   "id": "8d3edd60",
   "metadata": {},
   "outputs": [],
   "source": []
  }
 ],
 "metadata": {
  "kernelspec": {
   "display_name": "venv",
   "language": "python",
   "name": "python3"
  },
  "language_info": {
   "codemirror_mode": {
    "name": "ipython",
    "version": 3
   },
   "file_extension": ".py",
   "mimetype": "text/x-python",
   "name": "python",
   "nbconvert_exporter": "python",
   "pygments_lexer": "ipython3",
   "version": "3.12.7"
  }
 },
 "nbformat": 4,
 "nbformat_minor": 5
}
